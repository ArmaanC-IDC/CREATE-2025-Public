{
 "cells": [
  {
   "cell_type": "code",
   "execution_count": null,
   "metadata": {},
   "outputs": [],
   "source": [
    "# Welcome to Think, Code, Create: Software Engineering with Python & AI\n",
    "# In this course you will learn how to develop web applications using python tools \n",
    "# and accelerate your journey as a web developer! \n",
    "\n",
    "# This activity introduces you to error catching and debugging. As a programmer, \n",
    "# you are not always going to write perfect code. Just like when you are writing \n",
    "# an essay, you have typos, grammer errors and sometimes factual errors, you can \n",
    "# also have different types of errors. This activity will give you a chance to practice \n",
    "# identifying these errors and fixing them!"
   ]
  },
  {
   "cell_type": "markdown",
   "metadata": {},
   "source": [
    "# Activity 5.1\n",
    "The function below attempts to tell you whether a number is even or odd. Can you identify the 5 mistakes in the code below?"
   ]
  },
  {
   "cell_type": "code",
   "execution_count": null,
   "metadata": {},
   "outputs": [],
   "source": [
    "even_odd():\n",
    "    if i % 2 = 0: \n",
    "        print(The number is even!)\n",
    "    else:\n",
    "    print(\"The number is odd\")\n",
    "\n",
    "even_odd(5)"
   ]
  },
  {
   "cell_type": "markdown",
   "metadata": {},
   "source": [
    "# Activity 5.2\n",
    "The code below takes in an input from the user and attempts to display if the number is greater than 5 or not. What's the issue with the following code?\n"
   ]
  },
  {
   "cell_type": "code",
   "execution_count": null,
   "metadata": {},
   "outputs": [],
   "source": [
    "x = input(\"Please enter a number: \")\n",
    "if x < 5:\n",
    "    print(\"The number is less than 5\")\n",
    "else:\n",
    "    print(\"The number is greater than 5.\")"
   ]
  },
  {
   "cell_type": "markdown",
   "metadata": {},
   "source": [
    "# Activity 5.3: \n",
    "This function checks if the first number is divisible by the second one by checking their quotient. This code doesn't always work, can you identify the case where the code breaks?"
   ]
  },
  {
   "cell_type": "code",
   "execution_count": null,
   "metadata": {},
   "outputs": [],
   "source": [
    "def divisible_by_3(first, second): \n",
    "    quotient = first / second\n",
    "    if quotient.is_integer(): \n",
    "        print(f\"{first} is divisible by {second}.\")\n",
    "    else: \n",
    "        print(f\"{first} is not divisible by {second}.\")\n",
    "\n",
    "divisible_by_3(first=3, second=0)"
   ]
  },
  {
   "cell_type": "markdown",
   "metadata": {},
   "source": [
    "# Activity 5.4:\n",
    "The following function attempts to display the last element in an array/list. Why would this code return an error?"
   ]
  },
  {
   "cell_type": "code",
   "execution_count": 31,
   "metadata": {},
   "outputs": [
    {
     "name": "stdout",
     "output_type": "stream",
     "text": [
      "40\n"
     ]
    }
   ],
   "source": [
    "array = [12, 15, 19, 20, 55, 40]\n",
    "print(array[len(array)])"
   ]
  }
 ],
 "metadata": {
  "kernelspec": {
   "display_name": "Python 3.9.13 ('base')",
   "language": "python",
   "name": "python3"
  },
  "language_info": {
   "codemirror_mode": {
    "name": "ipython",
    "version": 3
   },
   "file_extension": ".py",
   "mimetype": "text/x-python",
   "name": "python",
   "nbconvert_exporter": "python",
   "pygments_lexer": "ipython3",
   "version": "3.9.13"
  },
  "orig_nbformat": 4,
  "vscode": {
   "interpreter": {
    "hash": "85f444565543dfa9a29a48c16a77ba9bfbb4786495a6dfa0ac85ba4b28e7c0fc"
   }
  }
 },
 "nbformat": 4,
 "nbformat_minor": 2
}
